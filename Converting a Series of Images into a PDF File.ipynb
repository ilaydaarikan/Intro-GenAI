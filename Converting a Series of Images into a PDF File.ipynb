{
 "cells": [
  {
   "cell_type": "code",
   "execution_count": 7,
   "id": "45ecc8d1",
   "metadata": {},
   "outputs": [],
   "source": [
    "from PIL import Image\n",
    "\n",
    "# List of image files (the image files are named from 1 to 24)\n",
    "# Resim dosyalarının listesi(Resim dosyaları 1'den 24'e kadar isimlendirilmişti.)\n",
    "images = [f'{i}.png' for i in range(1, 25)]\n",
    "\n",
    "# Open the first image and convert it to RGB mode\n",
    "# İlk resmi RGB moda dönüştürerek aç\n",
    "first_image = Image.open(images[0]).convert('RGB')\n",
    "\n",
    "# Convert the rest of the images\n",
    "# Diğer resimleri dönüştür\n",
    "converted_images = []\n",
    "for img in images[1:]:\n",
    "    image = Image.open(img)\n",
    "    rgb_image = image.convert('RGB')  # Convert from RGBA to RGB, if necessary\n",
    "    converted_images.append(rgb_image)\n",
    "\n",
    "# Create the PDF file\n",
    "# PDF dosyası oluştur\n",
    "first_image.save('Generative AI Intro.pdf', save_all=True, append_images=converted_images)"
   ]
  },
  {
   "cell_type": "code",
   "execution_count": null,
   "id": "189837b8",
   "metadata": {},
   "outputs": [],
   "source": []
  }
 ],
 "metadata": {
  "kernelspec": {
   "display_name": "Python 3 (ipykernel)",
   "language": "python",
   "name": "python3"
  },
  "language_info": {
   "codemirror_mode": {
    "name": "ipython",
    "version": 3
   },
   "file_extension": ".py",
   "mimetype": "text/x-python",
   "name": "python",
   "nbconvert_exporter": "python",
   "pygments_lexer": "ipython3",
   "version": "3.9.12"
  }
 },
 "nbformat": 4,
 "nbformat_minor": 5
}
